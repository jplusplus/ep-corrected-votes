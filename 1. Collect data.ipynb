{
 "cells": [
  {
   "cell_type": "markdown",
   "metadata": {},
   "source": [
    "# 1. Collect data\n",
    "\n",
    "Scrape data about MEPs and their parliament votes from VoteWatch."
   ]
  },
  {
   "cell_type": "code",
   "execution_count": 2,
   "metadata": {},
   "outputs": [],
   "source": [
    "import requests\n",
    "import pandas as pd\n",
    "from bs4 import BeautifulSoup\n",
    "import os\n",
    "import re\n"
   ]
  },
  {
   "cell_type": "code",
   "execution_count": 3,
   "metadata": {},
   "outputs": [],
   "source": [
    "# For storing data\n",
    "DATA_DIR = \"data\"\n",
    "VOTES_DIR = os.path.join(DATA_DIR, \"votes\")\n"
   ]
  },
  {
   "cell_type": "markdown",
   "metadata": {},
   "source": [
    "### Scrape MEPs\n"
   ]
  },
  {
   "cell_type": "code",
   "execution_count": 4,
   "metadata": {},
   "outputs": [
    {
     "name": "stdout",
     "output_type": "stream",
     "text": [
      "Save csv with meps to data/meps.csv\n"
     ]
    },
    {
     "data": {
      "text/html": [
       "<div>\n",
       "<style scoped>\n",
       "    .dataframe tbody tr th:only-of-type {\n",
       "        vertical-align: middle;\n",
       "    }\n",
       "\n",
       "    .dataframe tbody tr th {\n",
       "        vertical-align: top;\n",
       "    }\n",
       "\n",
       "    .dataframe thead th {\n",
       "        text-align: right;\n",
       "    }\n",
       "</style>\n",
       "<table border=\"1\" class=\"dataframe\">\n",
       "  <thead>\n",
       "    <tr style=\"text-align: right;\">\n",
       "      <th></th>\n",
       "      <th>European political group</th>\n",
       "      <th>Member State</th>\n",
       "      <th>National Party</th>\n",
       "      <th>Status</th>\n",
       "      <th>link</th>\n",
       "    </tr>\n",
       "    <tr>\n",
       "      <th>Name</th>\n",
       "      <th></th>\n",
       "      <th></th>\n",
       "      <th></th>\n",
       "      <th></th>\n",
       "      <th></th>\n",
       "    </tr>\n",
       "  </thead>\n",
       "  <tbody>\n",
       "    <tr>\n",
       "      <th>Lars ADAKTUSSON</th>\n",
       "      <td>EPP</td>\n",
       "      <td>Sweden</td>\n",
       "      <td>Kristdemokraterna</td>\n",
       "      <td>Inactive</td>\n",
       "      <td>https://www.votewatch.eu/en/term8-lars-adaktus...</td>\n",
       "    </tr>\n",
       "    <tr>\n",
       "      <th>Isabella ADINOLFI</th>\n",
       "      <td>EFDD</td>\n",
       "      <td>Italy</td>\n",
       "      <td>Movimento 5 Stelle</td>\n",
       "      <td>Active</td>\n",
       "      <td>https://www.votewatch.eu/en/term8-isabella-adi...</td>\n",
       "    </tr>\n",
       "    <tr>\n",
       "      <th>Marco AFFRONTE</th>\n",
       "      <td>Greens/EFA</td>\n",
       "      <td>Italy</td>\n",
       "      <td>Independent</td>\n",
       "      <td>Active</td>\n",
       "      <td>https://www.votewatch.eu/en/term8-marco-affron...</td>\n",
       "    </tr>\n",
       "    <tr>\n",
       "      <th>Laura AGEA</th>\n",
       "      <td>EFDD</td>\n",
       "      <td>Italy</td>\n",
       "      <td>Movimento 5 Stelle</td>\n",
       "      <td>Active</td>\n",
       "      <td>https://www.votewatch.eu/en/term8-laura-agea.html</td>\n",
       "    </tr>\n",
       "    <tr>\n",
       "      <th>John Stuart AGNEW</th>\n",
       "      <td>ENF</td>\n",
       "      <td>United Kingdom</td>\n",
       "      <td>United Kingdom Independence Party</td>\n",
       "      <td>Active</td>\n",
       "      <td>https://www.votewatch.eu/en/term8-john-stuart-...</td>\n",
       "    </tr>\n",
       "  </tbody>\n",
       "</table>\n",
       "</div>"
      ],
      "text/plain": [
       "                  European political group    Member State  \\\n",
       "Name                                                         \n",
       "Lars ADAKTUSSON                        EPP          Sweden   \n",
       "Isabella ADINOLFI                     EFDD           Italy   \n",
       "Marco AFFRONTE                  Greens/EFA           Italy   \n",
       "Laura AGEA                            EFDD           Italy   \n",
       "John Stuart AGNEW                      ENF  United Kingdom   \n",
       "\n",
       "                                      National Party    Status  \\\n",
       "Name                                                             \n",
       "Lars ADAKTUSSON                    Kristdemokraterna  Inactive   \n",
       "Isabella ADINOLFI                 Movimento 5 Stelle    Active   \n",
       "Marco AFFRONTE                           Independent    Active   \n",
       "Laura AGEA                        Movimento 5 Stelle    Active   \n",
       "John Stuart AGNEW  United Kingdom Independence Party    Active   \n",
       "\n",
       "                                                                link  \n",
       "Name                                                                  \n",
       "Lars ADAKTUSSON    https://www.votewatch.eu/en/term8-lars-adaktus...  \n",
       "Isabella ADINOLFI  https://www.votewatch.eu/en/term8-isabella-adi...  \n",
       "Marco AFFRONTE     https://www.votewatch.eu/en/term8-marco-affron...  \n",
       "Laura AGEA         https://www.votewatch.eu/en/term8-laura-agea.html  \n",
       "John Stuart AGNEW  https://www.votewatch.eu/en/term8-john-stuart-...  "
      ]
     },
     "execution_count": 4,
     "metadata": {},
     "output_type": "execute_result"
    }
   ],
   "source": [
    "mep_list_html = requests.get(\"https://www.votewatch.eu//en/term8-european-parliament-members.html?limit=1000\").content\n",
    "df_meps = pd.read_html(mep_list_html)[0]\n",
    "\n",
    "# Get links to MEP pages\n",
    "mep_list_soup = BeautifulSoup(mep_list_html, \"html.parser\")\n",
    "links = [x.attrs[\"href\"] for x in mep_list_soup.select_one(\".standard_table.narrow_table\").select(\"tbody > tr > td > a\")]\n",
    "df_meps[\"link\"] = pd.Series(links)\n",
    "\n",
    "df_meps = df_meps.set_index(\"Name\")\n",
    "\n",
    "file_path = os.path.join(DATA_DIR, \"meps.csv\")\n",
    "df_meps.to_csv(file_path, encoding=\"utf-8\")\n",
    "print \"Save csv with meps to {}\".format(file_path)\n",
    "\n",
    "df_meps.head()"
   ]
  },
  {
   "cell_type": "code",
   "execution_count": 5,
   "metadata": {},
   "outputs": [],
   "source": [
    "# We have to get the numerical \"MEP id\" from each MEP page \n",
    "def get_mep_id(mep_url):\n",
    "    mep_html = requests.get(mep_url).content\n",
    "    mep_id = re.search(\"euro_parlamentar_id=(\\d+)\", mep_html).group(1)\n",
    "    return mep_id\n",
    "\n",
    "mep_ids = df_meps[\"link\"].apply(get_mep_id)\n",
    "mep_ids"
   ]
  },
  {
   "cell_type": "code",
   "execution_count": 134,
   "metadata": {},
   "outputs": [
    {
     "name": "stdout",
     "output_type": "stream",
     "text": [
      "Write to data/mep_ids.csv\n"
     ]
    }
   ],
   "source": [
    "mep_ids.name = \"mep_id\"\n",
    "file_path = os.path.join(DATA_DIR, \"mep_ids.csv\")\n",
    "print(\"Write to {}\".format(file_path))\n",
    "mep_ids.to_frame().to_csv(file_path, encoding=\"utf-8\")\n"
   ]
  },
  {
   "cell_type": "markdown",
   "metadata": {},
   "source": [
    "### Scrape votes\n",
    "\n",
    "This will take a bit of time."
   ]
  },
  {
   "cell_type": "code",
   "execution_count": 7,
   "metadata": {},
   "outputs": [],
   "source": [
    "def parse_vote(euro_vot_valoare_special_vote_page):\n",
    "    soup = BeautifulSoup(euro_vot_valoare_special_vote_page, \"html.parser\")\n",
    "    vote = soup.select_one(\"img\")[\"title\"]\n",
    "\n",
    "    try:\n",
    "        correction = soup.select_one(\".info_more_box_inner\").text.strip()\n",
    "    except AttributeError:\n",
    "        correction = None\n",
    "    \n",
    "    return (vote, correction)\n",
    "\n",
    "def scrape_votes(mp_id):\n",
    "    url_format = \"https://www.votewatch.eu/actions.php?euro_parlamentar_id={euro_parlamentar_id}&form_category=get_mep_acte&sEcho=76&iColumns=6&sColumns=&iDisplayStart={offset}&iDisplayLength={size}&mDataProp_0=mysql_data&mDataProp_1=act_nume_full&mDataProp_2=euro_vot_valoare_special_vote_page&mDataProp_3=euro_vot_rol_euro_grup.rol_af&mDataProp_4=euro_domeniu_nume&mDataProp_5=euro_vot_valoare_text&sSearch=&bRegex=false&sSearch_0=&bRegex_0=false&bSearchable_0=true&sSearch_1=&bRegex_1=false&bSearchable_1=true&sSearch_2=&bRegex_2=false&bSearchable_2=true&sSearch_3=&bRegex_3=false&bSearchable_3=true&sSearch_4=&bRegex_4=false&bSearchable_4=true&sSearch_5=&bRegex_5=false&bSearchable_5=true&iSortingCols=1&iSortCol_0=0&sSortDir_0=desc&bSortable_0=true&bSortable_1=true&bSortable_2=true&bSortable_3=true&bSortable_4=true&bSortable_5=true\"\n",
    "\n",
    "    url = url_format.format(euro_parlamentar_id=mp_id, offset=0, size=999999)\n",
    "    json_data = requests.get(url).json()\n",
    "    len(json_data[\"all_votes\"])\n",
    "\n",
    "    data = []\n",
    "    for vote_json in json_data[\"all_votes\"]: \n",
    "        vote_json[\"euro_vot_rol_euro_grup\"] = vote_json[\"euro_vot_rol_euro_grup\"][\"rol_af\"]\n",
    "        vote_json[\"euro_vot_rol_euro_tara\"] = vote_json[\"euro_vot_rol_euro_tara\"][\"rol_af\"]\n",
    "        row = {\n",
    "            \"act_id\": vote_json[\"euro_act_id\"],\n",
    "            \"domain\": vote_json[\"euro_domeniu_nume\"],\n",
    "            \"euro_group_loyalty\": vote_json[\"euro_vot_rol_euro_grup\"],\n",
    "            \"euro_tara_loyalty\": vote_json[\"euro_vot_rol_euro_tara\"],\n",
    "            \"date\": vote_json[\"mysql_data_text\"],\n",
    "        }\n",
    "        row[\"vote\"], row[\"correction\"] = parse_vote(vote_json[\"euro_vot_valoare_special_vote_page\"])\n",
    "        data.append(row)\n",
    "\n",
    "    df = pd.DataFrame(data)\n",
    "    #df[\"euro_vot_valoare_special_vote_page\"] = df[\"euro_vot_valoare_special_vote_page\"].str.split(\"title='\").str[-1].str[:-3]\n",
    "    df.head()\n",
    "    file_path = os.path.join(VOTES_DIR, \"{}.csv\".format(mp_id))\n",
    "    df.to_csv(file_path, encoding=\"utf-8\")\n",
    "    print \"Save {} votes to {}\".format(df.shape[0], file_path)\n",
    "\n",
    "\n",
    "# Print scrape voting data for each MEP\n",
    "# NB: This will take some time!\n",
    "for mep_id in mep_ids.values:\n",
    "    scrape_votes(mep_id)"
   ]
  }
 ],
 "metadata": {
  "kernelspec": {
   "display_name": "Python 2",
   "language": "python",
   "name": "python2"
  },
  "language_info": {
   "codemirror_mode": {
    "name": "ipython",
    "version": 2
   },
   "file_extension": ".py",
   "mimetype": "text/x-python",
   "name": "python",
   "nbconvert_exporter": "python",
   "pygments_lexer": "ipython2",
   "version": "2.7.15rc1"
  }
 },
 "nbformat": 4,
 "nbformat_minor": 2
}
